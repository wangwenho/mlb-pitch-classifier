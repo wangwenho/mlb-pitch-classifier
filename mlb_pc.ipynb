{
 "cells": [
  {
   "cell_type": "code",
   "execution_count": 1,
   "metadata": {},
   "outputs": [],
   "source": [
    "import random\n",
    "\n",
    "import pandas as pd\n",
    "import plotly.express as px\n",
    "import matplotlib.pyplot as plt\n",
    "\n",
    "from sklearn.impute import SimpleImputer\n",
    "from sklearn.preprocessing import LabelEncoder\n",
    "from sklearn.model_selection import train_test_split\n",
    "from sklearn.ensemble import RandomForestClassifier"
   ]
  },
  {
   "cell_type": "code",
   "execution_count": 2,
   "metadata": {},
   "outputs": [],
   "source": [
    "data_df = None\n",
    "important_columns = [\n",
    "    \"release_speed\",\n",
    "    \"release_pos_x\",\n",
    "    \"release_pos_y\",\n",
    "    \"release_pos_z\",\n",
    "    \"pfx_x\",\n",
    "    \"pfx_z\",\n",
    "    \"spin_axis\",\n",
    "    \"release_spin_rate\",\n",
    "    \"plate_x\",\n",
    "    \"plate_z\",\n",
    "    \"effective_speed\",\n",
    "    \"pitch_name\",\n",
    "]\n",
    "\n",
    "X = None\n",
    "y = None\n",
    "\n",
    "label_map = None\n",
    "\n",
    "x_train = None\n",
    "x_test = None\n",
    "y_train = None\n",
    "y_test = None\n",
    "\n",
    "clf = None\n",
    "wrapped_clf = None"
   ]
  },
  {
   "cell_type": "markdown",
   "metadata": {},
   "source": [
    "## Data Preprocessing"
   ]
  },
  {
   "cell_type": "code",
   "execution_count": 3,
   "metadata": {},
   "outputs": [],
   "source": [
    "def csv_to_df(file):\n",
    "    df = pd.read_csv(file)\n",
    "    df = df[important_columns]\n",
    "    df = df[(df[\"pitch_name\"] != '') & (df[\"pitch_name\"] != 'Pitch Out') & (df[\"pitch_name\"] != 'Intentional Ball')]\n",
    "    df = df.apply(pd.to_numeric, errors='coerce').fillna(df)\n",
    "    return df"
   ]
  },
  {
   "cell_type": "code",
   "execution_count": 4,
   "metadata": {},
   "outputs": [],
   "source": [
    "def get_x_y_label_map(df):\n",
    "    global data_df, X, y, label_map\n",
    "    \n",
    "    X = df.drop(columns=['pitch_name'])\n",
    "    X = X.apply(pd.to_numeric, errors='coerce')\n",
    "    imputer = SimpleImputer(strategy='mean')\n",
    "    X = imputer.fit_transform(X)\n",
    "\n",
    "    y = df[['pitch_name']]\n",
    "    label_encoder = LabelEncoder()\n",
    "    y = y.apply(label_encoder.fit_transform)\n",
    "\n",
    "    label_map = {int(index): label for index, label in enumerate(label_encoder.classes_)}\n",
    "\n",
    "    return X, y, label_map"
   ]
  },
  {
   "cell_type": "code",
   "execution_count": 5,
   "metadata": {},
   "outputs": [],
   "source": [
    "def fit_model_get_acc():\n",
    "    global x_train, y_train, clf\n",
    "    clf = RandomForestClassifier(n_estimators=100, random_state=2024)\n",
    "    clf.fit(x_train, y_train.values.ravel())\n",
    "\n",
    "    return clf.score(x_test, y_test)"
   ]
  },
  {
   "cell_type": "code",
   "execution_count": 6,
   "metadata": {},
   "outputs": [],
   "source": [
    "def prepare_split_and_fit_dataset(file):\n",
    "    global data_df, important_columns, X, y, label_map, x_train, x_test, y_train, y_test, clf\n",
    "\n",
    "    data_df = csv_to_df(file)\n",
    "    X, y, label_map = get_x_y_label_map(data_df)\n",
    "    x_train, x_test, y_train, y_test = train_test_split(X, y, test_size=0.2, random_state=2024)\n",
    "    \n",
    "    return fit_model_get_acc()"
   ]
  },
  {
   "cell_type": "markdown",
   "metadata": {},
   "source": [
    "## Generate Random Test Data"
   ]
  },
  {
   "cell_type": "code",
   "execution_count": 7,
   "metadata": {},
   "outputs": [],
   "source": [
    "def get_random_data():\n",
    "    random_index = random.randint(0, len(x_test) - 1)\n",
    "    random_data = x_test[random_index].reshape(1, -1)\n",
    "\n",
    "    return random_data"
   ]
  },
  {
   "cell_type": "markdown",
   "metadata": {},
   "source": [
    "## Generate Prediction"
   ]
  },
  {
   "cell_type": "code",
   "execution_count": 8,
   "metadata": {},
   "outputs": [],
   "source": [
    "def get_prediction(df):\n",
    "    global clf\n",
    "    \n",
    "    df = df.apply(pd.to_numeric, errors='coerce').fillna(df)\n",
    "    input_data = df.values\n",
    "    input_data = input_data.reshape(1, -1)\n",
    "    y_prob = clf.predict_proba(input_data)\n",
    "    return {label_map[index]: prob for index, prob in enumerate(y_prob[0])}"
   ]
  },
  {
   "cell_type": "markdown",
   "metadata": {},
   "source": [
    "## Generate Scatter Plot"
   ]
  },
  {
   "cell_type": "code",
   "execution_count": 9,
   "metadata": {},
   "outputs": [],
   "source": [
    "def plot_scatter():\n",
    "    global data_df\n",
    "\n",
    "    color_sequence = px.colors.qualitative.Light24\n",
    "\n",
    "    fig = px.scatter(\n",
    "        data_df,\n",
    "        x=\"release_speed\",\n",
    "        y=\"release_spin_rate\",\n",
    "        color=\"pitch_name\",\n",
    "        size_max=8,\n",
    "        size=[1]*len(data_df),\n",
    "        color_discrete_sequence=color_sequence,\n",
    "    )\n",
    "\n",
    "    fig.update_layout(\n",
    "        title=\"Scatter Plot of Release Speed vs Release Spin Rate\",\n",
    "        title_x=0.5,\n",
    "        xaxis_title=\"release speed (mph)\",\n",
    "        yaxis_title=\"release spin rate (rpm)\",\n",
    "        xaxis=dict(\n",
    "            type='linear',\n",
    "        ),\n",
    "        yaxis=dict(\n",
    "            type='linear',\n",
    "        ),\n",
    "    )\n",
    "\n",
    "    return fig"
   ]
  },
  {
   "cell_type": "markdown",
   "metadata": {},
   "source": [
    "## Generate Captum Bar Chart"
   ]
  },
  {
   "cell_type": "code",
   "execution_count": 10,
   "metadata": {},
   "outputs": [],
   "source": [
    "import torch\n",
    "from captum.attr import FeatureAblation\n",
    "\n",
    "class WrappedModel(torch.nn.Module):\n",
    "    def __init__(self, rf_model):\n",
    "        super(WrappedModel, self).__init__()\n",
    "        self.rf_model = rf_model\n",
    "\n",
    "    def forward(self, x):\n",
    "        x_np = x.detach().numpy()\n",
    "        preds = self.rf_model.predict_proba(x_np)\n",
    "        return torch.tensor(preds, dtype=torch.float32)"
   ]
  },
  {
   "cell_type": "code",
   "execution_count": 11,
   "metadata": {},
   "outputs": [],
   "source": [
    "def get_captum_barchart(df):\n",
    "    global clf, feature_ablation\n",
    "\n",
    "    wrapped_clf = WrappedModel(clf)\n",
    "    feature_ablation = FeatureAblation(wrapped_clf)\n",
    "\n",
    "    df = df.apply(pd.to_numeric, errors='coerce').fillna(df)\n",
    "    input_data = df.values\n",
    "    input_data = input_data.reshape(1, -1)\n",
    "    \n",
    "    y_prob = clf.predict_proba(input_data)\n",
    "    y_pred = clf.predict(input_data)\n",
    "\n",
    "    X_tensor = torch.tensor(df.values, dtype=torch.float32)\n",
    "    attr = feature_ablation.attribute(X_tensor, target=y_pred.item())\n",
    "    mean_contributions = attr.mean(dim=0).numpy()\n",
    "\n",
    "    fig, ax = plt.subplots(figsize=(20, 5))\n",
    "    ax.bar(df.columns, mean_contributions, width=0.5)\n",
    "    ax.set(xlabel='Feature', ylabel='Contribution', title='Feature Contribution')\n",
    "\n",
    "    return fig"
   ]
  },
  {
   "cell_type": "markdown",
   "metadata": {},
   "source": [
    "## Gradio App"
   ]
  },
  {
   "cell_type": "code",
   "execution_count": 12,
   "metadata": {},
   "outputs": [],
   "source": [
    "title = (\n",
    "    \"\"\"\n",
    "    <center>\n",
    "        <h1> ⚾️ MLB Pitch Classifier </h1>\n",
    "        <b> Upload a dataset and the model will recognize the pitch type for the given data. </b>\n",
    "    </center>\n",
    "    \"\"\"\n",
    ")"
   ]
  },
  {
   "cell_type": "code",
   "execution_count": 13,
   "metadata": {},
   "outputs": [
    {
     "name": "stdout",
     "output_type": "stream",
     "text": [
      "* Running on local URL:  http://127.0.0.1:7860\n",
      "* Running on public URL: https://66dbe67f1c3cd41383.gradio.live\n",
      "\n",
      "This share link expires in 72 hours. For free permanent hosting and GPU upgrades, run `gradio deploy` from the terminal in the working directory to deploy to Hugging Face Spaces (https://huggingface.co/spaces)\n"
     ]
    },
    {
     "data": {
      "text/html": [
       "<div><iframe src=\"https://66dbe67f1c3cd41383.gradio.live\" width=\"100%\" height=\"500\" allow=\"autoplay; camera; microphone; clipboard-read; clipboard-write;\" frameborder=\"0\" allowfullscreen></iframe></div>"
      ],
      "text/plain": [
       "<IPython.core.display.HTML object>"
      ]
     },
     "metadata": {},
     "output_type": "display_data"
    },
    {
     "data": {
      "text/plain": []
     },
     "execution_count": 13,
     "metadata": {},
     "output_type": "execute_result"
    }
   ],
   "source": [
    "import gradio as gr\n",
    "\n",
    "columns = [\"release_speed\", \"release_pos_x\", \"release_pos_y\", \"release_pos_z\",\n",
    "           \"pfx_x\", \"pfx_z\", \"spin_axis\", \"release_spin_rate\",\n",
    "           \"plate_x\", \"plate_z\", \"effective_speed\"]\n",
    "\n",
    "with gr.Blocks(theme=\"citrus\") as app:\n",
    "    gr.Markdown(title)\n",
    "    gr.Markdown(\"Step 1: Upload a CSV file and the model will fit the dataset\")\n",
    "\n",
    "    with gr.Row(equal_height=True):\n",
    "        with gr.Column():\n",
    "            file_input = gr.File(label=\"Upload CSV\", type=\"filepath\")\n",
    "\n",
    "        with gr.Column():\n",
    "            acc_display = gr.Textbox(label=\"Accuracy\")\n",
    "            fit_dataset_button = gr.Button(\"Fit Model\")\n",
    "    \n",
    "    with gr.Row():\n",
    "        scatter_plot = gr.Plot(label=\"Scatter Plot\")\n",
    "    \n",
    "    gr.Markdown(\"Step 2: Input the data and get the model's prediction\")\n",
    "\n",
    "    with gr.Row():\n",
    "        data_input = gr.DataFrame(headers=columns, datatype=\"number\", wrap=False)\n",
    "    \n",
    "    with gr.Row():\n",
    "        random_data_button = gr.Button(\"Get Random Test Data\")\n",
    "        predict_button = gr.Button(\"Predict\")\n",
    "\n",
    "    with gr.Row():\n",
    "        predict_output = gr.Label(num_top_classes=3, label=\"Prediction\")\n",
    "\n",
    "    with gr.Row():\n",
    "        captum_output = gr.Plot(label=\"Feature Importance Bar Chart\")\n",
    "\n",
    "    fit_dataset_button.click(prepare_split_and_fit_dataset, inputs=file_input, outputs=acc_display)\n",
    "    acc_display.change(plot_scatter, outputs=scatter_plot)\n",
    "\n",
    "    random_data_button.click(get_random_data, outputs=data_input)\n",
    "\n",
    "    predict_button.click(get_prediction, inputs=data_input, outputs=predict_output)\n",
    "    predict_button.click(get_captum_barchart, inputs=data_input, outputs=captum_output)\n",
    "\n",
    "app.launch(share=True)"
   ]
  }
 ],
 "metadata": {
  "kernelspec": {
   "display_name": "mlb-pc",
   "language": "python",
   "name": "python3"
  },
  "language_info": {
   "codemirror_mode": {
    "name": "ipython",
    "version": 3
   },
   "file_extension": ".py",
   "mimetype": "text/x-python",
   "name": "python",
   "nbconvert_exporter": "python",
   "pygments_lexer": "ipython3",
   "version": "3.10.15"
  }
 },
 "nbformat": 4,
 "nbformat_minor": 2
}
